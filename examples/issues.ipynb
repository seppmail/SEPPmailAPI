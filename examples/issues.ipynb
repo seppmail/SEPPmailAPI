{
 "cells": [
  {
   "cell_type": "markdown",
   "metadata": {},
   "source": [
    "# Issues found in API\n",
    "\n",
    "## Find-SMAUser\n",
    "\n",
    "When i use the 'partialMatch' query string and use 'admin' as search string, all users are emitted. Same with partialMatch 'r', also admin@local and mde@local are emitted.\n",
    "Example below"
   ]
  },
  {
   "cell_type": "code",
   "execution_count": 3,
   "metadata": {
    "dotnet_interactive": {
     "language": "pwsh"
    },
    "polyglot_notebook": {
     "kernelName": "pwsh"
    }
   },
   "outputs": [
    {
     "name": "stdout",
     "output_type": "stream",
     "text": [
      "admin@local\n",
      "seppmail-o365admin@seppmail365lab.com\n",
      "rst@local\n",
      "roman@local\n",
      "muehlbauer@local\n",
      "exoadmin@seppmail365lab.com\n"
     ]
    }
   ],
   "source": [
    "set-location ~/GitHub/seppmailapi\n",
    "import-module ./SEPPmailapi.psd1 -force\n",
    "find-smauser -partialmatch 'admin'"
   ]
  }
 ],
 "metadata": {
  "kernelspec": {
   "display_name": ".NET (PowerShell)",
   "language": "PowerShell",
   "name": ".net-pwsh"
  },
  "language_info": {
   "name": "polyglot-notebook"
  },
  "polyglot_notebook": {
   "kernelInfo": {
    "defaultKernelName": "pwsh",
    "items": [
     {
      "aliases": [],
      "languageName": "pwsh",
      "name": "pwsh"
     }
    ]
   }
  }
 },
 "nbformat": 4,
 "nbformat_minor": 2
}
